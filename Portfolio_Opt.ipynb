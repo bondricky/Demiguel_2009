{
 "cells": [
  {
   "cell_type": "code",
   "execution_count": 1,
   "metadata": {},
   "outputs": [],
   "source": [
    "import pandas as pd\n",
    "import numpy as np"
   ]
  },
  {
   "cell_type": "code",
   "execution_count": 2,
   "metadata": {},
   "outputs": [],
   "source": [
    "data = pd.read_csv(\"Ken_French_Data.csv\", header=0, index_col=0, na_values=-99.99)\n",
    "\n",
    "rets = data/100\n",
    "rets.index = pd.to_datetime(rets.index, format=\"%Y%m\").to_period('M')\n",
    "\n",
    "#Paper uses excess return, therefore need to take risk-free rate off industry returns\n",
    "d1 = rets\n",
    "d1 = d1.drop(['Mkt-RF','RF'], 1)\n",
    "d1 = d1.sub(rets['RF'], axis =0)\n",
    "d1[\"Mkt-RF\"] = rets[\"Mkt-RF\"]\n",
    "\n",
    "rets = d1"
   ]
  },
  {
   "cell_type": "markdown",
   "metadata": {},
   "source": [
    "# Function Preparation\n"
   ]
  },
  {
   "cell_type": "code",
   "execution_count": 3,
   "metadata": {},
   "outputs": [],
   "source": [
    "def monthly_rets(r):\n",
    "    return r.mean()\n",
    "\n",
    "def monthly_vol(r):\n",
    "    return r.std()\n",
    "\n",
    "def portfolio_return(weights, returns):\n",
    "    return weights.T @ returns\n",
    "\n",
    "def portfolio_vol (weights, cov):\n",
    "    return (weights.T @ cov @ weights)**0.5\n",
    "\n",
    "#Risk free rate set to 0 as the data is already excess returns\n",
    "def sharpe_ratio(r):\n",
    "    sharpe = r.mean()/r.std()\n",
    "    return sharpe\n",
    "\n",
    "def weight_ew(r):\n",
    "    n = len(r.columns)\n",
    "    ew = pd.Series(1/n, index=r.columns)\n",
    "    return ew\n",
    "\n",
    "def mv_func(er, cov):\n",
    "    num_assets = cov.shape[0]\n",
    "    inv_cov = np.linalg.pinv(cov)\n",
    "    weights = (inv_cov@er)/(np.ones((1,num_assets))@inv_cov@er)\n",
    "    return weights\n",
    "\n",
    "def min_v_func(cov):\n",
    "    num_assets = cov.shape[0]\n",
    "    er = [1] * num_assets\n",
    "    inv_cov = np.linalg.pinv(cov)\n",
    "    weights = (inv_cov@er)/(np.ones((1,num_assets))@inv_cov@er)\n",
    "    return weights\n"
   ]
  },
  {
   "cell_type": "markdown",
   "metadata": {},
   "source": [
    "# Equal-weighted Portfolio "
   ]
  },
  {
   "cell_type": "code",
   "execution_count": 4,
   "metadata": {},
   "outputs": [],
   "source": [
    "def weight_ew(r):\n",
    "    n = len(r.columns)\n",
    "    ew = pd.Series(1/n, index=r.columns)\n",
    "    return ew\n",
    "\n",
    "RW = 120\n",
    "\n",
    "PortRet= []  \n",
    "for Date,ew in rets[RW:].iterrows():\n",
    "    ew = weight_ew(rets).values    \n",
    "    PortRet.append(ew@rets.loc[Date].values)\n",
    "\n",
    "EW_Result = pd.DataFrame(PortRet, index = rets[RW:].index, columns =['ew'])\n"
   ]
  },
  {
   "cell_type": "markdown",
   "metadata": {},
   "source": [
    "# In-sample mv portfolio"
   ]
  },
  {
   "cell_type": "code",
   "execution_count": 5,
   "metadata": {},
   "outputs": [],
   "source": [
    "#Full sample mv portfolio\n",
    "f_ret = monthly_rets(rets)\n",
    "f_cov = rets.cov()\n",
    "\n",
    "#Generating weights\n",
    "mv_weights_IS = mv_func(f_ret, f_cov)\n",
    "\n",
    "#Multiplying weights with industries return\n",
    "f_Port = rets.mul(mv_weights_IS, axis=1).sum(axis=1)\n",
    "f_Port =pd.DataFrame(f_Port, index = rets.index, columns =['Full sample mean-variance in-sample'])"
   ]
  },
  {
   "cell_type": "code",
   "execution_count": 6,
   "metadata": {},
   "outputs": [],
   "source": [
    "#\"In-sample\" testing with first 50 months of data \n",
    "RW = 50\n",
    "is_ret = rets[:RW]\n",
    "is_er = monthly_rets(is_ret)\n",
    "is_cov = rets[:RW].cov()\n",
    "\n",
    "#Generating weights\n",
    "c = mv_func(is_er, is_cov)\n",
    "\n",
    "#Mulipl weights with return\n",
    "MV_Port_0 = rets[:RW].mul(c, axis=1).sum(axis=1)\n",
    "MV_Port_0 =pd.DataFrame(MV_Port_0, index = rets[:RW].index, \n",
    "                       columns =['Mean-variance in-sample 50-Months'])"
   ]
  },
  {
   "cell_type": "code",
   "execution_count": 7,
   "metadata": {},
   "outputs": [],
   "source": [
    "#\"In-sample\" testing with first 120 months of data \n",
    "RW = 120\n",
    "is_ret = rets[:RW]\n",
    "is_er = monthly_rets(is_ret)\n",
    "is_cov = rets[:RW].cov()\n",
    "\n",
    "#Generating weights\n",
    "c = mv_func(is_er, is_cov)\n",
    "\n",
    "#Mulipl weights with return\n",
    "MV_Port_1 = rets[:RW].mul(c, axis=1).sum(axis=1)\n",
    "MV_Port_1 =pd.DataFrame(MV_Port_1, index = rets[:RW].index, \n",
    "                       columns =['Mean-variance in-sample 120-Months'])"
   ]
  },
  {
   "cell_type": "markdown",
   "metadata": {},
   "source": [
    "# Out-of-sample mean variance portfolio - 120 Rolling Window"
   ]
  },
  {
   "cell_type": "code",
   "execution_count": 8,
   "metadata": {},
   "outputs": [],
   "source": [
    "#Rolling window for mean and variance\n",
    "RW_mean = rets.rolling(RW, min_periods= RW).mean().dropna()\n",
    "RW_cov = rets.rolling(RW, min_periods= RW).cov().dropna()\n",
    "\n",
    "#Shifting date to match analysis dates as it is t-1\n",
    "RW_mean = RW_mean.loc[\"1973-07\":\"2004-11\"]\n",
    "RW_cov = RW_cov.loc[\"1973-07\": \"2004-11\"]"
   ]
  },
  {
   "cell_type": "code",
   "execution_count": 9,
   "metadata": {},
   "outputs": [],
   "source": [
    "#Developing backtest system in a rolling window basis\n",
    "OoS_MV = []\n",
    "for Dates, w in RW_cov.groupby(level = \"Date\"):\n",
    "    er = RW_mean.loc[Dates]\n",
    "    cov = RW_cov.loc[Dates,:].values\n",
    "    w = mv_func(er, cov)\n",
    "\n",
    "    OoS_MV.append(w)\n",
    "    \n",
    "OoS_MV = pd.DataFrame(OoS_MV, index= rets[RW:].index, columns = list(RW_mean))\n",
    "    \n",
    "OoS_MV_rets = []\n",
    "for Date, w in rets[RW:].iterrows():\n",
    "    w = OoS_MV.loc[Date].values  \n",
    "    OoS_MV_rets.append(w@rets.loc[Date].values)\n",
    "    \n",
    "OoS_MV_rets =pd.DataFrame(OoS_MV_rets, index = rets[RW:].index, columns =['Mean-variance out-of-sample 120-Months'])"
   ]
  },
  {
   "cell_type": "markdown",
   "metadata": {},
   "source": [
    "# Oos Min-Variance Portfolio"
   ]
  },
  {
   "cell_type": "code",
   "execution_count": 10,
   "metadata": {},
   "outputs": [],
   "source": [
    "#Developing backtest system in a rolling window basis\n",
    "OoS_MinV = []\n",
    "for Dates, w in RW_cov.groupby(level = \"Date\"):\n",
    "    cov = RW_cov.loc[Dates,:].values\n",
    "    w = min_v_func(cov)\n",
    "    OoS_MinV.append(w)\n",
    "    \n",
    "OoS_MinV = pd.DataFrame(OoS_MinV, index= rets[RW:].index, columns = list(RW_mean))\n",
    "    \n",
    "OoS_MinV_rets = []\n",
    "for Date, w in rets[RW:].iterrows():\n",
    "    w = OoS_MinV.loc[Date].values  \n",
    "    OoS_MinV_rets.append(w@rets.loc[Date].values)\n",
    "    \n",
    "OoS_MinV_rets =pd.DataFrame(OoS_MinV_rets, index = rets[RW:].index, columns =['Min_Var out-of-sample 120-Months'])"
   ]
  },
  {
   "cell_type": "markdown",
   "metadata": {},
   "source": [
    "# Result of portfolios"
   ]
  },
  {
   "cell_type": "code",
   "execution_count": 11,
   "metadata": {},
   "outputs": [
    {
     "data": {
      "text/plain": [
       "1/N          0.136496\n",
       "MV (OoS)     0.076015\n",
       "MV (IS)      0.210754\n",
       "Min (OoS)    0.169816\n",
       "dtype: float64"
      ]
     },
     "execution_count": 11,
     "metadata": {},
     "output_type": "execute_result"
    }
   ],
   "source": [
    "btr = pd.DataFrame({\"1/N \": EW_Result[\"ew\"],\n",
    "                    \"MV (OoS)\": OoS_MV_rets[\"Mean-variance out-of-sample 120-Months\"],\n",
    "                    \"MV (IS)\": f_Port['Full sample mean-variance in-sample'],\n",
    "                    \"Min (OoS)\": OoS_MinV_rets['Min_Var out-of-sample 120-Months']\n",
    "                   })\n",
    "\n",
    "btr.apply(sharpe_ratio, axis = 0)"
   ]
  },
  {
   "cell_type": "code",
   "execution_count": null,
   "metadata": {},
   "outputs": [],
   "source": []
  }
 ],
 "metadata": {
  "kernelspec": {
   "display_name": "Python 3",
   "language": "python",
   "name": "python3"
  },
  "language_info": {
   "codemirror_mode": {
    "name": "ipython",
    "version": 3
   },
   "file_extension": ".py",
   "mimetype": "text/x-python",
   "name": "python",
   "nbconvert_exporter": "python",
   "pygments_lexer": "ipython3",
   "version": "3.8.8"
  }
 },
 "nbformat": 4,
 "nbformat_minor": 2
}
