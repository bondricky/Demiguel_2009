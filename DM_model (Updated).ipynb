{
 "cells": [
  {
   "cell_type": "markdown",
   "id": "99ab9e0b",
   "metadata": {},
   "source": [
    "# Data Preparation"
   ]
  },
  {
   "cell_type": "code",
   "execution_count": 1,
   "id": "e4732983",
   "metadata": {},
   "outputs": [],
   "source": [
    "import pandas as pd\n",
    "import numpy as np\n",
    "import statsmodels.api as sm\n",
    "\n",
    "#Load data\n",
    "data = pd.read_csv(\"Industry.csv\", header=0, index_col=0, na_values=-99.99)\n",
    "rets = data\n",
    "rets.index = pd.to_datetime(rets.index, format=\"%Y%m%d\").to_period('M')\n",
    "\n",
    "#Paper uses excess return, therefore need to take risk-free rate off industry returns\n",
    "d1 = rets\n",
    "d1 = d1.drop(['RF'], 1)\n",
    "\n",
    "rets = d1.loc[\"1963-07\":\"2004-11\"]\n",
    "#rets = rets[0:121]"
   ]
  },
  {
   "cell_type": "markdown",
   "id": "33e81b57",
   "metadata": {},
   "source": [
    "# Function Preparation"
   ]
  },
  {
   "cell_type": "code",
   "execution_count": 2,
   "id": "3fded940",
   "metadata": {},
   "outputs": [],
   "source": [
    "#Paper uses mean and std for expected return and volatility calculation\n",
    "def monthly_rets(r):\n",
    "    return r.mean()\n",
    "\n",
    "def monthly_vol(r):\n",
    "    return r.std()\n",
    "\n",
    "def portfolio_return(weights, returns):\n",
    "    return weights.T @ returns\n",
    "\n",
    "def portfolio_vol (weights, cov):\n",
    "    return (weights.T @ cov @ weights)**0.5\n",
    "\n",
    "#Risk free rate set to 0 as the data is already excess returns\n",
    "def sharpe_ratio(r):\n",
    "    sharpe = r.mean()/r.std()\n",
    "    return sharpe\n",
    "\n",
    "def weight_ew(r):\n",
    "    n = len(r.columns)\n",
    "    ew = pd.Series(1/n, index=r.columns)\n",
    "    return ew\n",
    "\n",
    "#Utility function for optimising\n",
    "def opt_fn(mean, cov):\n",
    "    num_assets = cov.shape[0]\n",
    "    inv_cov = np.linalg.pinv(cov)\n",
    "    wtgs = (inv_cov@mean) / np.abs(np.ones((1,num_assets))@inv_cov@mean)\n",
    "    return wtgs"
   ]
  },
  {
   "cell_type": "markdown",
   "id": "4f70083f",
   "metadata": {},
   "source": [
    "# Developing backtest system"
   ]
  },
  {
   "cell_type": "code",
   "execution_count": 3,
   "id": "a7a25c8a",
   "metadata": {},
   "outputs": [],
   "source": [
    "#In table 3 we can see that the sigma alpha is 0.01 therefore we can use this to find Tao\n",
    "sigma_alpha = 0.01\n",
    "\n",
    "M = 120\n",
    "n = rets.shape[1]"
   ]
  },
  {
   "cell_type": "code",
   "execution_count": 4,
   "id": "898b16c7",
   "metadata": {},
   "outputs": [],
   "source": [
    "#Equal weighted portfolio\n",
    "PortRet= []  \n",
    "for Date, ew in rets[M:].iterrows():\n",
    "    ew = weight_ew(rets).values    \n",
    "    PortRet.append(ew@rets.loc[Date].values)\n",
    "\n",
    "EW_Result = pd.DataFrame(PortRet, index = rets[M:].index, columns =['ew'])"
   ]
  },
  {
   "cell_type": "code",
   "execution_count": 5,
   "id": "4947bc2e",
   "metadata": {},
   "outputs": [],
   "source": [
    "#Developing weights\n",
    "wtgs = []\n",
    "for i in range(len(rets) - M + 1):\n",
    "    #\"Rolling window\" data of 120 months\n",
    "    df = (rets[i: i + M])\n",
    "    #CAPM factor (Mkt-RF)\n",
    "    mrp = pd.DataFrame(df[\"Mkt-RF\"])\n",
    "    k = pd.DataFrame(mrp).shape[1]\n",
    "    #Only risky assets\n",
    "    risky_assets = df.drop([\"Mkt-RF\"], 1)\n",
    "    #Mu_hat_a\n",
    "    mu_hat_a = risky_assets.mean()\n",
    "    #Mean of the industries (Mu_hat_b)\n",
    "    mu_hat_b = mrp.mean().values\n",
    "    #Sigma_hat\n",
    "    sigma_hat_bb = mrp.cov().values\n",
    "    \n",
    "    #Generating main parameters\n",
    "    Shat2 = mu_hat_b.T @ np.linalg.pinv(sigma_hat_bb) @ mu_hat_b\n",
    "    h = M/(M - n - 1) \n",
    "    kappa = (M + 1)/(M - k - 2)\n",
    "    delta_hat = (M * (M - 2) + k)/(M * (M - k - 2)) - (k + 3)/(M * (M - k - 2)) * (Shat2/(1 + Shat2))\n",
    "    delta_bar = (M - 2)*(M + 1)/(M * (M - k - 2))\n",
    "    \n",
    "    #Running regressions\n",
    "    #Intercept = 0 (restricted regression)\n",
    "    mrp[\"alpha\"] = 0\n",
    "    beta_bar = []\n",
    "    for x in risky_assets:\n",
    "        lm = sm.OLS(risky_assets[x], mrp).fit()\n",
    "        c = lm.params[\"Mkt-RF\"]\n",
    "        beta_bar.append(c)\n",
    "    beta_bar = pd.DataFrame(beta_bar)\n",
    "    #Intercept = 1 (unrestricted regression)\n",
    "    mrp[\"alpha\"] = 1\n",
    "    mkt_df = []\n",
    "    alpha_df = []\n",
    "    for x in risky_assets:\n",
    "        lm = sm.OLS(risky_assets[x], mrp).fit()\n",
    "        c = lm.params[\"Mkt-RF\"]\n",
    "        d = lm.params[\"alpha\"]\n",
    "        mkt_df.append(c)\n",
    "        alpha_df.append(d)\n",
    "    factor_df = pd.DataFrame(mkt_df, columns = {\"Mkt-RF\"})\n",
    "    alpha_df = pd.DataFrame(alpha_df)\n",
    "    factor_df[\"alpha\"] = alpha_df\n",
    "    beta_hat = factor_df\n",
    "    beta_hat_copy = beta_hat\n",
    "    #beta_hat.columns = list(risky_assets)\n",
    "    \n",
    "    #Generating Sigma_hat and Sigma_bar\n",
    "    #Factor returns\n",
    "    #Estimation of sigma_hat\n",
    "    df1 = pd.DataFrame(mrp[\"Mkt-RF\"])\n",
    "    ones = pd.DataFrame(np.ones(mrp.shape[0]), index = df.index)\n",
    "    df1[\"Alpha\"] = ones\n",
    "    factor_ret = df1.values @ beta_hat.T\n",
    "    factor_ret.index = risky_assets.index\n",
    "    factor_ret.columns = list(risky_assets)\n",
    "    #Industries returns - Theoretical returns\n",
    "    T_ret1 = risky_assets - factor_ret\n",
    "    #Generating sigma_hat\n",
    "    sigma_hat = np.cov(T_ret1.T)\n",
    "\n",
    "    #Estimation of sigma_bar\n",
    "    #Factor returns\n",
    "    b = pd.DataFrame(mrp[\"Mkt-RF\"]).values @ beta_bar.T\n",
    "    b.index = risky_assets.index\n",
    "    b.columns = list(risky_assets)\n",
    "    #Industries returns - Theoretical returns\n",
    "    T_ret2 = risky_assets - b\n",
    "    #Generating sigma_bar\n",
    "    sigma_bar = np.cov(T_ret2.T)\n",
    "    \n",
    "    #Generate tau, w and reassign beta_hat to only 'Beta' (remove alpha)\n",
    "    tau = (sigma_alpha / 12)**2 / np.diag(sigma_hat).max()\n",
    "    w = 1 / (1 + ((M * tau) / (1 + Shat2)))\n",
    "    beta_hat = pd.DataFrame(mkt_df)\n",
    "    \n",
    "    sigma_dm_aa = kappa * ((w * beta_bar) + ((1 - w) * beta_hat)) @ sigma_hat_bb @ ((w * beta_bar) + ((1 - w) * beta_hat)).T + (h * (w * delta_bar + (1 - w) * delta_hat) * (w * sigma_bar + (1 - w) * sigma_hat))\n",
    "    sigma_dm_ab = kappa * ((w * beta_bar) + ((1 - w) * beta_hat)) @ sigma_hat_bb\n",
    "    sigma_dm_bb = kappa * sigma_hat_bb\n",
    "    \n",
    "    mu_dm = w * np.concatenate([np.array(beta_bar) @ mu_hat_b, mu_hat_b]) + (1 - w) * np.concatenate([mu_hat_a, mu_hat_b])\n",
    "    sigma_dm = np.concatenate([np.concatenate([sigma_dm_aa, sigma_dm_ab], axis=1), np.concatenate([sigma_dm_ab.T, sigma_dm_bb], axis=1)])\n",
    "    \n",
    "    weights_dm = opt_fn(mu_dm, sigma_dm)\n",
    "    wtgs.append(weights_dm)\n",
    "    \n",
    "dm_weights = pd.DataFrame(wtgs, index= rets[M-1:].index, columns = list(rets))\n",
    "dm_weights = dm_weights.shift(1)"
   ]
  },
  {
   "cell_type": "code",
   "execution_count": 6,
   "id": "79c45783",
   "metadata": {},
   "outputs": [],
   "source": [
    "#Getting returns from the weightages\n",
    "DM_rets = []\n",
    "for Date, w in rets[M-1:].iterrows():\n",
    "    wtgs = dm_weights.loc[Date].values  \n",
    "    DM_rets.append(wtgs@rets.loc[Date].values) \n",
    "#Returns of portfolio\n",
    "DM_rets =pd.DataFrame(DM_rets, index = rets[M-1:].index, columns =['Portfolio_return'])"
   ]
  },
  {
   "cell_type": "code",
   "execution_count": 7,
   "id": "a59f41ff",
   "metadata": {},
   "outputs": [
    {
     "data": {
      "text/plain": [
       "ew    0.135309\n",
       "dtype: float64"
      ]
     },
     "execution_count": 7,
     "metadata": {},
     "output_type": "execute_result"
    }
   ],
   "source": [
    "sharpe_ratio(EW_Result)"
   ]
  },
  {
   "cell_type": "code",
   "execution_count": 8,
   "id": "401b1923",
   "metadata": {},
   "outputs": [
    {
     "data": {
      "text/plain": [
       "Portfolio_return    0.05654\n",
       "dtype: float64"
      ]
     },
     "execution_count": 8,
     "metadata": {},
     "output_type": "execute_result"
    }
   ],
   "source": [
    "sharpe_ratio(DM_rets)"
   ]
  }
 ],
 "metadata": {
  "kernelspec": {
   "display_name": "Python 3",
   "language": "python",
   "name": "python3"
  },
  "language_info": {
   "codemirror_mode": {
    "name": "ipython",
    "version": 3
   },
   "file_extension": ".py",
   "mimetype": "text/x-python",
   "name": "python",
   "nbconvert_exporter": "python",
   "pygments_lexer": "ipython3",
   "version": "3.8.8"
  }
 },
 "nbformat": 4,
 "nbformat_minor": 5
}
