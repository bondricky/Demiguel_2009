{
 "cells": [
  {
   "cell_type": "markdown",
   "id": "99ab9e0b",
   "metadata": {},
   "source": [
    "# Data Preparation"
   ]
  },
  {
   "cell_type": "code",
   "execution_count": 1,
   "id": "e4732983",
   "metadata": {},
   "outputs": [],
   "source": [
    "import pandas as pd\n",
    "import numpy as np\n",
    "import statsmodels.api as sm\n",
    "\n",
    "#Already implemented Fama-french factor model (Mkt-RF) into data below\n",
    "data = pd.read_csv(\"Ken_French_Data.csv\", header=0, index_col=0, na_values=-99.99)\n",
    "\n",
    "rets = data/100\n",
    "rets.index = pd.to_datetime(rets.index, format=\"%Y%m\").to_period('M')\n",
    "\n",
    "#Paper uses excess return, therefore need to take risk-free rate off industry returns\n",
    "d1 = rets\n",
    "d1 = d1.drop(['Mkt-RF','RF'], 1)\n",
    "d1 = d1.sub(rets['RF'], axis =0)\n",
    "d1[\"Mkt-RF\"] = rets[\"Mkt-RF\"]\n",
    "\n",
    "rets = d1.loc[\"1963-07\":\"2004-11\"]"
   ]
  },
  {
   "cell_type": "markdown",
   "id": "33e81b57",
   "metadata": {},
   "source": [
    "# Function Preparation"
   ]
  },
  {
   "cell_type": "code",
   "execution_count": 2,
   "id": "3fded940",
   "metadata": {},
   "outputs": [],
   "source": [
    "#Paper uses mean and std for expected return and volatility calculation\n",
    "def monthly_rets(r):\n",
    "    return r.mean()\n",
    "\n",
    "def monthly_vol(r):\n",
    "    return r.std()\n",
    "\n",
    "def portfolio_return(weights, returns):\n",
    "    return weights.T @ returns\n",
    "\n",
    "def portfolio_vol (weights, cov):\n",
    "    return (weights.T @ cov @ weights)**0.5\n",
    "\n",
    "#Risk free rate set to 0 as the data is already excess returns\n",
    "def sharpe_ratio(r):\n",
    "    sharpe = r.mean()/r.std()\n",
    "    return sharpe\n",
    "\n",
    "#Utility function for optimising\n",
    "def util_fn(mean, cov):\n",
    "    num_assets = cov.shape[0]\n",
    "    inv_cov = np.linalg.pinv(cov)\n",
    "    wtgs = (inv_cov@mean)/(np.ones((1,num_assets))@inv_cov@mean)\n",
    "    return wtgs"
   ]
  },
  {
   "cell_type": "markdown",
   "id": "ef8f1d00",
   "metadata": {},
   "source": [
    "# Preparing necessary functions for DM model (according to Sec A.2)"
   ]
  },
  {
   "cell_type": "code",
   "execution_count": 3,
   "id": "9ad8ac9c",
   "metadata": {},
   "outputs": [],
   "source": [
    "#In table 3 we can see that the sigma alpha is 0.01 therefore we can use this to find Tao\n",
    "sigma_alpha = 0.01\n",
    "\n",
    "def Shat2_fn(mu_hat_b, sigma_hat_bb):\n",
    "    inv_cov = np.linalg.pinv(sigma_hat_bb)\n",
    "    a = mu_hat_b.T @ inv_cov @ mu_hat_b\n",
    "    return (a)\n",
    "    \n",
    "def tao_fn(sigma_alpha, sigma_hat):\n",
    "    \"\"\"\n",
    "    Since,\n",
    "    sigma_alpha = Tao * max(diag(var(epsilon)))\n",
    "    \n",
    "    Means that,\n",
    "    annual(0.01) / max(diag(var(sigma_hat))) = Tao\n",
    "    Therefore,\n",
    "    Tao = (0.01/12)**2 / max(diag(sigma_hat))\n",
    "    \"\"\"\n",
    "    a = (sigma_alpha/12)**2/np.diag(sigma_hat).max()\n",
    "    return (a)\n",
    "\n",
    "def w_fn(M, Shat2, tao):\n",
    "    a = 1 + (int(M) * tao/(1+Shat2))\n",
    "    return (1/a)\n",
    "\n",
    "def delta_bar_fn(M, k, Shat2):\n",
    "    a = (int(M) * (int(M) - 2) + k)/(int(M) * (int(M) - int(k) - 2)) - (int(k) + 3)/(int(M) * (int(M) - int(k) - 2)) * (Shat2/(1 + Shat2))\n",
    "    return (a)\n",
    "\n",
    "def delta_hat_fn(M, k):\n",
    "    a = (int(M) - 2)*(int(M) + 1)/(int(M) * (int(M) - int(k) - 2))\n",
    "    return(a)\n",
    "\n",
    "def kappa_fn(M, k):\n",
    "    a = (int(M) + 1)/(int(M) - int(k) - 2)\n",
    "    return (a)\n",
    "\n",
    "def h_fn(M, N):\n",
    "    a = int(M)/(int(M) - int(N) - 1) \n",
    "    return(a)\n",
    "\n",
    "def sigma_dm_aa_fn(kappa, w, beta_bar, beta_hat, sigma_hat_bb, delta_bar, delta_hat):\n",
    "    a = kappa * ((w * beta_bar) + ((1 - w) * beta_hat)) @ sigma_hat_bb @ ((w * beta_bar) + ((1 - w) * beta_hat)).T + (h * (w * delta_bar + (1 - w) * delta_hat) * (w * sigma_bar + (1 - w) * sigma_hat))\n",
    "    return (a)\n",
    "    \n",
    "def sigma_dm_ab_fn(w, beta_bar, beta_hat, sigma_hat_bb):\n",
    "    a = kappa * ((w * beta_bar) + ((1 - w) * beta_hat)) @ sigma_hat_bb\n",
    "    return (a)\n",
    "\n",
    "def sigma_dm_bb_fn(kappa, sigma_hat_bb):\n",
    "    a = kappa * sigma_hat_bb\n",
    "    return (a)"
   ]
  },
  {
   "cell_type": "markdown",
   "id": "d507555a",
   "metadata": {},
   "source": [
    "# Loading CAPM data"
   ]
  },
  {
   "cell_type": "code",
   "execution_count": 4,
   "id": "2a56dcd3",
   "metadata": {},
   "outputs": [],
   "source": [
    "#Risky assets\n",
    "risky_assets = rets.drop([\"Mkt-RF\"], 1)\n",
    "#Factor of CAPM being used in the paper which is the market risk premium\n",
    "mrp = rets.loc[\"1963-07\":\"2004-11\",['Mkt-RF']]\n",
    "\n",
    "#Getting M and k\n",
    "M = 120\n",
    "n = pd.DataFrame(risky_assets).shape[1]\n"
   ]
  },
  {
   "cell_type": "markdown",
   "id": "4f70083f",
   "metadata": {},
   "source": [
    "# Developing backtest system"
   ]
  },
  {
   "cell_type": "code",
   "execution_count": 5,
   "id": "4947bc2e",
   "metadata": {},
   "outputs": [],
   "source": [
    "#Developing weights\n",
    "\n",
    "wtgs = []\n",
    "for i in range(len(rets) - M + 1):\n",
    "    #\"Rolling window\" data of 120 months\n",
    "    df = (rets[i: i + M])\n",
    "    #CAPM factor (Mkt-RF)\n",
    "    mrp = pd.DataFrame(df[\"Mkt-RF\"])\n",
    "    k = pd.DataFrame(mrp).shape[1]\n",
    "    #Only risky assets\n",
    "    risky_assets = df.drop([\"Mkt-RF\"], 1)\n",
    "    #Mu_hat_a\n",
    "    mu_hat_a = risky_assets.mean()\n",
    "    #Mean of the industries (Mu_hat_b)\n",
    "    mu_hat_b = mrp.mean().values\n",
    "    #Sigma_hat\n",
    "    sigma_hat_bb = mrp.cov().values\n",
    "    \n",
    "    #Generating main parameters\n",
    "    Shat2 = Shat2_fn(mu_hat_b, sigma_hat_bb)\n",
    "    h = h_fn(M, n)\n",
    "    kappa = kappa_fn(M, k)\n",
    "    delta_hat = delta_hat_fn(M, k)\n",
    "    delta_bar = delta_bar_fn(M, k, Shat2)\n",
    "    \n",
    "    #Running regressions\n",
    "    #Intercept = 0 (restricted regression)\n",
    "    mrp[\"alpha\"] = 0\n",
    "    beta_bar = []\n",
    "    for x in risky_assets:\n",
    "        lm = sm.OLS(risky_assets[x], mrp).fit()\n",
    "        c = lm.params[\"Mkt-RF\"]\n",
    "        beta_bar.append(c)\n",
    "    beta_bar = pd.DataFrame(beta_bar)\n",
    "    #Intercept = 1 (unrestricted regression)\n",
    "    mrp[\"alpha\"] = 1\n",
    "    mkt_df = []\n",
    "    alpha_df = []\n",
    "    for x in risky_assets:\n",
    "        lm = sm.OLS(risky_assets[x], mrp).fit()\n",
    "        c = lm.params[\"Mkt-RF\"]\n",
    "        d = lm.params[\"alpha\"]\n",
    "        mkt_df.append(c)\n",
    "        alpha_df.append(d)\n",
    "    factor_df = pd.DataFrame(mkt_df, columns = {\"Mkt-RF\"})\n",
    "    alpha_df = pd.DataFrame(alpha_df)\n",
    "    factor_df[\"alpha\"] = alpha_df\n",
    "    beta_hat = factor_df\n",
    "    #beta_hat.columns = list(risky_assets)\n",
    "    \n",
    "    #Generating Sigma_hat and Sigma_bar\n",
    "    #Factor returns\n",
    "    #Estimation of sigma_hat\n",
    "    df1 = pd.DataFrame(np.ones(mrp.shape[0]), index = df.index, columns =['alpha'])\n",
    "    df1[\"Mkt-RF\"] = mrp[\"Mkt-RF\"] \n",
    "    factor_ret = df1.values @ beta_hat.T\n",
    "    factor_ret.index = risky_assets.index\n",
    "    factor_ret.columns = list(risky_assets)\n",
    "    #Industries returns - Theoretical returns\n",
    "    T_ret1 = risky_assets - factor_ret\n",
    "    #Generating sigma_hat\n",
    "    sigma_hat = np.cov(T_ret1.T)\n",
    "\n",
    "    #Estimation of sigma_bar\n",
    "    #Factor returns\n",
    "    b = pd.DataFrame(mrp[\"Mkt-RF\"]).values @ beta_bar.T\n",
    "    b.index = risky_assets.index\n",
    "    b.columns = list(risky_assets)\n",
    "    #Industries returns - Theoretical returns\n",
    "    T_ret2 = risky_assets - b\n",
    "    #Generating sigma_bar\n",
    "    sigma_bar = np.cov(T_ret2.T)\n",
    "    \n",
    "    #Generate tao, w and reassign beta_hat to only 'Beta' (remove alpha)\n",
    "    tao = tao_fn(sigma_alpha, sigma_hat)\n",
    "    w_value = w_fn(M, Shat2, tao)\n",
    "    w = w_value\n",
    "    beta_hat = pd.DataFrame(mkt_df)\n",
    "    \n",
    "    sigma_dm_aa = kappa * ((w * beta_bar) + ((1 - w) * beta_hat)) @ sigma_hat_bb @ ((w * beta_bar) + ((1 - w) * beta_hat)).T + (h * (w * delta_bar + (1 - w) * delta_hat) * (w * sigma_bar + (1 - w) * sigma_hat))\n",
    "    sigma_dm_ab = kappa * ((w * beta_bar) + ((1 - w) * beta_hat)) @ sigma_hat_bb\n",
    "    sigma_dm_bb = kappa * sigma_hat_bb\n",
    "    \n",
    "    mu_dm = w * np.concatenate([np.array(beta_bar) @ mu_hat_b, mu_hat_b]) + (1 - w) * np.concatenate([mu_hat_a, mu_hat_b])\n",
    "    sigma_dm = np.concatenate([np.concatenate([sigma_dm_aa, sigma_dm_ab], axis=1), np.concatenate([sigma_dm_ab.T, sigma_dm_bb], axis=1)])\n",
    "    \n",
    "    weights_dm = util_fn(mu_dm, sigma_dm)\n",
    "    wtgs.append(weights_dm)\n",
    "    \n",
    "dm_weights = pd.DataFrame(wtgs, index= rets[M-1:].index, columns = list(rets))"
   ]
  },
  {
   "cell_type": "code",
   "execution_count": 6,
   "id": "79c45783",
   "metadata": {},
   "outputs": [],
   "source": [
    "#Getting returns from the weightages\n",
    "DM_rets = []\n",
    "for Date, w in rets[M-1:].iterrows():\n",
    "    wtgs = dm_weights.loc[Date].values  \n",
    "    DM_rets.append(wtgs@rets.loc[Date].values) \n",
    "#Returns of portfolio\n",
    "DM_rets =pd.DataFrame(DM_rets, index = rets[M-1:].index, columns =['Portfolio_return'])"
   ]
  },
  {
   "cell_type": "code",
   "execution_count": 7,
   "id": "bb2f7fc6",
   "metadata": {},
   "outputs": [
    {
     "data": {
      "text/plain": [
       "Portfolio_return    0.038749\n",
       "dtype: float64"
      ]
     },
     "execution_count": 7,
     "metadata": {},
     "output_type": "execute_result"
    }
   ],
   "source": [
    "sharpe_ratio(DM_rets)"
   ]
  }
 ],
 "metadata": {
  "kernelspec": {
   "display_name": "Python 3",
   "language": "python",
   "name": "python3"
  },
  "language_info": {
   "codemirror_mode": {
    "name": "ipython",
    "version": 3
   },
   "file_extension": ".py",
   "mimetype": "text/x-python",
   "name": "python",
   "nbconvert_exporter": "python",
   "pygments_lexer": "ipython3",
   "version": "3.8.8"
  }
 },
 "nbformat": 4,
 "nbformat_minor": 5
}
